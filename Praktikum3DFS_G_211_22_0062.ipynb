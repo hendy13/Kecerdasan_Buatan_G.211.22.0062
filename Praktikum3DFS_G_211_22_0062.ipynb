{
  "nbformat": 4,
  "nbformat_minor": 0,
  "metadata": {
    "colab": {
      "provenance": [],
      "authorship_tag": "ABX9TyN0LZ2+FMkfS70mBq+rVtzc",
      "include_colab_link": true
    },
    "kernelspec": {
      "name": "python3",
      "display_name": "Python 3"
    },
    "language_info": {
      "name": "python"
    }
  },
  "cells": [
    {
      "cell_type": "markdown",
      "metadata": {
        "id": "view-in-github",
        "colab_type": "text"
      },
      "source": [
        "<a href=\"https://colab.research.google.com/github/hendy13/Kecerdasan_Buatan_G.211.22.0062/blob/main/Praktikum3DFS_G_211_22_0062.ipynb\" target=\"_parent\"><img src=\"https://colab.research.google.com/assets/colab-badge.svg\" alt=\"Open In Colab\"/></a>"
      ]
    },
    {
      "cell_type": "code",
      "execution_count": 2,
      "metadata": {
        "colab": {
          "base_uri": "https://localhost:8080/"
        },
        "id": "T5VxGvSmCGb7",
        "outputId": "78f76b4d-e03b-4bac-ed52-7b03d62015cc"
      },
      "outputs": [
        {
          "output_type": "stream",
          "name": "stdout",
          "text": [
            "Masukkan awal:A\n",
            "Masukkan akhir:L\n",
            "['A', 'B', 'C', 'D', 'H', 'L']\n"
          ]
        }
      ],
      "source": [
        "peta = {\n",
        "    'A':set(['B']),\n",
        "    'B':set(['C', 'A']),\n",
        "    'C':set(['H', 'B', 'I','D']),\n",
        "    'D':set(['C', 'E', 'H','F']),\n",
        "    'E':set(['D']),\n",
        "    'F':set(['D', 'G']),\n",
        "    'G':set(['F','H']),\n",
        "    'H':set(['L', 'C', 'G','D']),\n",
        "    'I':set(['C', 'J', 'K']),\n",
        "    'J':set(['I']),\n",
        "    'K':set(['L','I']),\n",
        "    'L':set(['K','H']),\n",
        "}\n",
        "\n",
        "def dfs(graph, mulai, goal):\n",
        "    explored = []\n",
        "    stack = [[mulai]]\n",
        "\n",
        "    if mulai == goal:\n",
        "        return \"Awal adalah Tujuan\"\n",
        "\n",
        "    while stack:\n",
        "        jalur = stack.pop()\n",
        "        node = jalur[-1]\n",
        "        if node not in explored:\n",
        "            neighbours = graph.get(node, set())\n",
        "\n",
        "            for neighbour in neighbours:\n",
        "                jalur_baru = list(jalur)\n",
        "                jalur_baru.append(neighbour)\n",
        "                stack.append(jalur_baru)\n",
        "\n",
        "                if neighbour == goal:\n",
        "                    return jalur_baru\n",
        "\n",
        "            explored.append(node)\n",
        "\n",
        "    return \"Mohon maaf node yang kalian pilih tidak ada\"\n",
        "\n",
        "awal = input(\"Masukkan awal:\")\n",
        "tujuan = input(\"Masukkan akhir:\")\n",
        "\n",
        "print(dfs(peta, awal, tujuan))\n"
      ]
    }
  ]
}